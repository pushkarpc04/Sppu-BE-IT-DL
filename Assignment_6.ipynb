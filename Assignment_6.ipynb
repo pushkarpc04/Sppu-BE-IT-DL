{
  "cells": [
    {
      "cell_type": "code",
      "source": [
        "import tensorflow as tf\n",
        "import tensorflow_datasets as tfds\n",
        "from tensorflow.keras import layers, models\n",
        "from tensorflow.keras.applications import VGG16\n",
        "import matplotlib.pyplot as plt\n",
        "import numpy as np\n"
      ],
      "metadata": {
        "colab": {
          "base_uri": "https://localhost:8080/",
          "height": 712
        },
        "id": "Cm3lsbuZkvAV",
        "outputId": "b7f24f54-80b2-4e30-dd9d-bc03dbe09d88"
      },
      "id": "Cm3lsbuZkvAV",
      "execution_count": 40,
      "outputs": [
        {
          "output_type": "stream",
          "name": "stdout",
          "text": [
            "Epoch 1/5\n",
            "\u001b[1m938/938\u001b[0m \u001b[32m━━━━━━━━━━━━━━━━━━━━\u001b[0m\u001b[37m\u001b[0m \u001b[1m875s\u001b[0m 931ms/step - accuracy: 0.7156 - loss: 0.8498 - val_accuracy: 0.9434 - val_loss: 0.1736\n",
            "Epoch 2/5\n",
            "\u001b[1m938/938\u001b[0m \u001b[32m━━━━━━━━━━━━━━━━━━━━\u001b[0m\u001b[37m\u001b[0m \u001b[1m870s\u001b[0m 927ms/step - accuracy: 0.9361 - loss: 0.2067 - val_accuracy: 0.9599 - val_loss: 0.1197\n",
            "Epoch 3/5\n",
            "\u001b[1m938/938\u001b[0m \u001b[32m━━━━━━━━━━━━━━━━━━━━\u001b[0m\u001b[37m\u001b[0m \u001b[1m927s\u001b[0m 933ms/step - accuracy: 0.9478 - loss: 0.1655 - val_accuracy: 0.9671 - val_loss: 0.1018\n",
            "Epoch 4/5\n",
            "\u001b[1m938/938\u001b[0m \u001b[32m━━━━━━━━━━━━━━━━━━━━\u001b[0m\u001b[37m\u001b[0m \u001b[1m897s\u001b[0m 956ms/step - accuracy: 0.9553 - loss: 0.1421 - val_accuracy: 0.9696 - val_loss: 0.0934\n",
            "Epoch 5/5\n",
            "\u001b[1m938/938\u001b[0m \u001b[32m━━━━━━━━━━━━━━━━━━━━\u001b[0m\u001b[37m\u001b[0m \u001b[1m893s\u001b[0m 952ms/step - accuracy: 0.9596 - loss: 0.1280 - val_accuracy: 0.9716 - val_loss: 0.0876\n",
            "\u001b[1m157/157\u001b[0m \u001b[32m━━━━━━━━━━━━━━━━━━━━\u001b[0m\u001b[37m\u001b[0m \u001b[1m127s\u001b[0m 812ms/step - accuracy: 0.9712 - loss: 0.0893\n",
            "Test Loss: 0.08758566528558731\n",
            "Test Accuracy: 0.9715999960899353\n",
            "\u001b[1m157/157\u001b[0m \u001b[32m━━━━━━━━━━━━━━━━━━━━\u001b[0m\u001b[37m\u001b[0m \u001b[1m126s\u001b[0m 799ms/step\n"
          ]
        },
        {
          "output_type": "display_data",
          "data": {
            "text/plain": [
              "<Figure size 640x480 with 1 Axes>"
            ],
            "image/png": "[encoded data removed]"
          },
          "metadata": {}
        },
        {
          "output_type": "stream",
          "name": "stdout",
          "text": [
            "True label: 2\n"
          ]
        }
      ]
    },
    {
      "cell_type": "code",
      "source": [
        "\n",
        "(train_data, test_data), info = tfds.load('mnist', as_supervised=True, split=['train', 'test'], with_info=True)"
      ],
      "metadata": {
        "id": "xKRHZ_OIkvk3"
      },
      "id": "xKRHZ_OIkvk3",
      "execution_count": 41,
      "outputs": []
    },
    {
      "cell_type": "code",
      "source": [
        "def preprocess_image(image, label):\n",
        "    image = tf.cast(image, tf.float32) / 255.0\n",
        "    image = tf.image.grayscale_to_rgb(image)\n",
        "    image = tf.image.resize(image, (32, 32))\n",
        "    return image, label"
      ],
      "metadata": {
        "id": "alkLbPpF3Y2T"
      },
      "id": "alkLbPpF3Y2T",
      "execution_count": 42,
      "outputs": []
    },
    {
      "cell_type": "code",
      "source": [
        "train_data = train_data.map(preprocess_image).batch(64).prefetch(tf.data.AUTOTUNE)\n",
        "test_data = test_data.map(preprocess_image).batch(64).prefetch(tf.data.AUTOTUNE)"
      ],
      "metadata": {
        "id": "2G23sGj63beK"
      },
      "id": "2G23sGj63beK",
      "execution_count": 43,
      "outputs": []
    },
    {
      "cell_type": "code",
      "source": [
        "vgg_model = VGG16(weights='imagenet', include_top=False, input_shape=(32, 32, 3))"
      ],
      "metadata": {
        "id": "JhxdC0c63e68"
      },
      "id": "JhxdC0c63e68",
      "execution_count": 44,
      "outputs": []
    },
    {
      "cell_type": "code",
      "source": [
        "for layer in vgg_model.layers:\n",
        "    layer.trainable = False"
      ],
      "metadata": {
        "id": "WbP5bsPc3jlu"
      },
      "id": "WbP5bsPc3jlu",
      "execution_count": 45,
      "outputs": []
    },
    {
      "cell_type": "code",
      "source": [
        "custom_classifier = models.Sequential([\n",
        "    layers.Flatten(),\n",
        "    layers.Dense(100, activation='relu'),\n",
        "    layers.Dropout(0.2),\n",
        "    layers.Dense(100, activation='relu'),\n",
        "    layers.Dropout(0.2),\n",
        "    layers.Dense(10, activation='softmax')\n",
        "])"
      ],
      "metadata": {
        "id": "zsUQxbpX3mus"
      },
      "id": "zsUQxbpX3mus",
      "execution_count": 47,
      "outputs": []
    },
    {
      "cell_type": "code",
      "source": [
        "model = models.Sequential([\n",
        "    vgg_model,\n",
        "    custom_classifier\n",
        "])"
      ],
      "metadata": {
        "id": "vJhWigRL3uPJ"
      },
      "id": "vJhWigRL3uPJ",
      "execution_count": 48,
      "outputs": []
    },
    {
      "cell_type": "code",
      "source": [
        "\n",
        "model.compile(optimizer='adam', loss='sparse_categorical_crossentropy', metrics=['accuracy'])"
      ],
      "metadata": {
        "id": "aTnzkmdf3vMR"
      },
      "id": "aTnzkmdf3vMR",
      "execution_count": 49,
      "outputs": []
    },
    {
      "cell_type": "code",
      "source": [
        "model.fit(train_data, epochs=5, validation_data=test_data)"
      ],
      "metadata": {
        "colab": {
          "base_uri": "https://localhost:8080/"
        },
        "id": "vqxJjG883zRQ",
        "outputId": "297cb966-2648-4117-cde7-7de535633d93"
      },
      "id": "vqxJjG883zRQ",
      "execution_count": null,
      "outputs": [
        {
          "output_type": "stream",
          "name": "stdout",
          "text": [
            "Epoch 1/5\n",
            "\u001b[1m 76/938\u001b[0m \u001b[32m━\u001b[0m\u001b[37m━━━━━━━━━━━━━━━━━━━\u001b[0m \u001b[1m11:23\u001b[0m 793ms/step - accuracy: 0.3600 - loss: 1.8935"
          ]
        }
      ]
    },
    {
      "cell_type": "code",
      "source": [
        "loss, acc = model.evaluate(test_data)\n",
        "print(\"Test Loss:\", loss)\n",
        "print(\"Test Accuracy:\", acc)\n",
        "\n",
        "pred = model.predict(test_data)"
      ],
      "metadata": {
        "id": "e1E5YYHY32Eo"
      },
      "id": "e1E5YYHY32Eo",
      "execution_count": null,
      "outputs": []
    },
    {
      "cell_type": "code",
      "source": [
        "labels = [str(i) for i in range(10)]"
      ],
      "metadata": {
        "id": "Betpcy2034oh"
      },
      "id": "Betpcy2034oh",
      "execution_count": null,
      "outputs": []
    },
    {
      "cell_type": "code",
      "source": [
        "for image, label in test_data.take(1):\n",
        "    idx = 0\n",
        "    plt.imshow(image[idx], cmap='gray')\n",
        "    plt.title(f\"Predicted: {labels[np.argmax(pred[idx])]} - True: {labels[label[idx]]}\")\n",
        "    plt.show()\n",
        "\n",
        "print(\"True label:\", labels[label[idx]])"
      ],
      "metadata": {
        "id": "4Dsk4xyr37Lw"
      },
      "id": "4Dsk4xyr37Lw",
      "execution_count": null,
      "outputs": []
    },
    {
      "cell_type": "code",
      "source": [],
      "metadata": {
        "id": "LDv_tMHE4BM2"
      },
      "id": "LDv_tMHE4BM2",
      "execution_count": null,
      "outputs": []
    }
  ],
  "metadata": {
    "kernelspec": {
      "display_name": "Python 3 (ipykernel)",
      "language": "python",
      "name": "python3"
    },
    "language_info": {
      "codemirror_mode": {
        "name": "ipython",
        "version": 3
      },
      "file_extension": ".py",
      "mimetype": "text/x-python",
      "name": "python",
      "nbconvert_exporter": "python",
      "pygments_lexer": "ipython3",
      "version": "3.12.4"
    },
    "colab": {
      "provenance": []
    }
  },
  "nbformat": 4,
  "nbformat_minor": 5
}